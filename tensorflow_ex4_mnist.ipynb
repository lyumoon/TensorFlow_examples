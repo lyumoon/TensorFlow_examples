{
  "nbformat": 4,
  "nbformat_minor": 0,
  "metadata": {
    "colab": {
      "name": "tensorflow_ex4_mnist.ipynb",
      "provenance": [],
      "include_colab_link": true
    },
    "kernelspec": {
      "name": "python3",
      "display_name": "Python 3"
    }
  },
  "cells": [
    {
      "cell_type": "markdown",
      "metadata": {
        "id": "view-in-github",
        "colab_type": "text"
      },
      "source": [
        "<a href=\"https://colab.research.google.com/github/lyumoon/TensorFlow_examples/blob/master/tensorflow_ex4_mnist.ipynb\" target=\"_parent\"><img src=\"https://colab.research.google.com/assets/colab-badge.svg\" alt=\"Open In Colab\"/></a>"
      ]
    },
    {
      "cell_type": "code",
      "metadata": {
        "id": "91FHWNKFOhgg",
        "colab_type": "code",
        "colab": {
          "base_uri": "https://localhost:8080/",
          "height": 85
        },
        "outputId": "2d6c2194-f3a2-4e50-9244-8e5ba320804c"
      },
      "source": [
        "%tensorflow_version 1.x \n",
        "from tensorflow.examples.tutorials.mnist import input_data\n",
        "mnist = input_data.read_data_sets('MNIST_data',one_hot=True)"
      ],
      "execution_count": 12,
      "outputs": [
        {
          "output_type": "stream",
          "text": [
            "Extracting MNIST_data/train-images-idx3-ubyte.gz\n",
            "Extracting MNIST_data/train-labels-idx1-ubyte.gz\n",
            "Extracting MNIST_data/t10k-images-idx3-ubyte.gz\n",
            "Extracting MNIST_data/t10k-labels-idx1-ubyte.gz\n"
          ],
          "name": "stdout"
        }
      ]
    },
    {
      "cell_type": "code",
      "metadata": {
        "id": "j3w_oDAfTJVD",
        "colab_type": "code",
        "colab": {
          "base_uri": "https://localhost:8080/",
          "height": 71
        },
        "outputId": "ed808c9d-5d40-4d7b-e240-6db990af4cfa"
      },
      "source": [
        "import tensorflow as tf\n",
        "sess = tf.InteractiveSession()"
      ],
      "execution_count": 13,
      "outputs": [
        {
          "output_type": "stream",
          "text": [
            "/usr/local/lib/python3.6/dist-packages/tensorflow_core/python/client/session.py:1750: UserWarning: An interactive session is already active. This can cause out-of-memory errors in some cases. You must explicitly call `InteractiveSession.close()` to release resources held by the other session(s).\n",
            "  warnings.warn('An interactive session is already active. This can '\n"
          ],
          "name": "stderr"
        }
      ]
    },
    {
      "cell_type": "code",
      "metadata": {
        "id": "QpeAw7ixTbz7",
        "colab_type": "code",
        "colab": {}
      },
      "source": [
        "x = tf.placeholder('float',shape = [None,784])\n",
        "y_ = tf.placeholder('float',shape = [None,10])"
      ],
      "execution_count": 0,
      "outputs": []
    },
    {
      "cell_type": "code",
      "metadata": {
        "id": "GHRTJYovOtuS",
        "colab_type": "code",
        "colab": {}
      },
      "source": [
        "# 权重初始化\n",
        "def weight_variable(shape):\n",
        "  initial = tf.truncated_normal(shape, stddev=0.1)\n",
        "  return tf.Variable(initial)\n",
        "\n",
        "def bias_variable(shape):\n",
        "  initial = tf.constant(0.1, shape=shape)\n",
        "  return tf.Variable(initial)"
      ],
      "execution_count": 0,
      "outputs": []
    },
    {
      "cell_type": "code",
      "metadata": {
        "id": "EQQwofJdQACs",
        "colab_type": "code",
        "colab": {}
      },
      "source": [
        "# 卷积和池化\n",
        "def conv2d(x,W):\n",
        "  return tf.nn.conv2d(x, W, strides=[1,1,1,1], padding='SAME')\n",
        "\n",
        "def max_pool_2x2(x):\n",
        "  return tf.nn.max_pool(x, ksize=[1,2,2,1], strides=[1,2,2,1], padding='SAME')"
      ],
      "execution_count": 0,
      "outputs": []
    },
    {
      "cell_type": "code",
      "metadata": {
        "id": "2U1Q5euIRB0R",
        "colab_type": "code",
        "colab": {}
      },
      "source": [
        "# 第一层卷积\n",
        "W_conv1 = weight_variable([5,5,1,32])\n",
        "b_conv1 = bias_variable([32])\n",
        "\n",
        "x_image = tf.reshape(x, [-1,28,28,1])\n",
        "\n",
        "h_conv1 = tf.nn.relu(conv2d(x_image, W_conv1) + b_conv1)\n",
        "h_pool1 = max_pool_2x2(h_conv1)"
      ],
      "execution_count": 0,
      "outputs": []
    },
    {
      "cell_type": "code",
      "metadata": {
        "id": "4x0BFx6uTDxa",
        "colab_type": "code",
        "colab": {}
      },
      "source": [
        "# 第二层卷积\n",
        "W_conv2 = weight_variable([5,5,32,64])\n",
        "b_conv2 = bias_variable([64])\n",
        "\n",
        "h_conv2 = tf.nn.relu(conv2d(h_pool1,W_conv2) + b_conv2)\n",
        "h_pool2 = max_pool_2x2(h_conv2)"
      ],
      "execution_count": 0,
      "outputs": []
    },
    {
      "cell_type": "code",
      "metadata": {
        "id": "Cp51JWwMUU2D",
        "colab_type": "code",
        "colab": {}
      },
      "source": [
        "# 密集连接层\n",
        "W_fc1 = weight_variable([7*7*64,1024])\n",
        "b_fc1 = bias_variable([1024])\n",
        "\n",
        "h_pool2_flat = tf.reshape(h_pool2, [-1,7*7*64])\n",
        "h_fc1 = tf.nn.relu(tf.matmul(h_pool2_flat, W_fc1)+b_fc1)"
      ],
      "execution_count": 0,
      "outputs": []
    },
    {
      "cell_type": "code",
      "metadata": {
        "id": "fltjRWWuVmef",
        "colab_type": "code",
        "colab": {}
      },
      "source": [
        "# Dropout(减少过拟合)\n",
        "keep_prob = tf.placeholder('float')  \n",
        "h_fc1_drop = tf.nn.dropout(h_fc1, keep_prob) # rate = 1- keep_prob"
      ],
      "execution_count": 0,
      "outputs": []
    },
    {
      "cell_type": "code",
      "metadata": {
        "id": "I0_AVnhIWRD9",
        "colab_type": "code",
        "colab": {}
      },
      "source": [
        "# 输出层\n",
        "W_fc2 = weight_variable([1024,10])\n",
        "b_fc2 = bias_variable([10])\n",
        "\n",
        "y_conv = tf.nn.softmax(tf.matmul(h_fc1_drop, W_fc2) + b_fc2)"
      ],
      "execution_count": 0,
      "outputs": []
    },
    {
      "cell_type": "code",
      "metadata": {
        "id": "oQrE9zGtW1sD",
        "colab_type": "code",
        "colab": {
          "base_uri": "https://localhost:8080/",
          "height": 1000
        },
        "outputId": "e976d3dc-f091-4a6d-9228-be3cbc9b366e"
      },
      "source": [
        "# 训练和评估模型\n",
        "cross_entropy = -tf.reduce_sum(y_ * tf.log(y_conv))\n",
        "train_step = tf.train.AdamOptimizer(1e-4).minimize(cross_entropy)\n",
        "correct_prediction = tf.equal(tf.argmax(y_conv,1),tf.argmax(y_,1))\n",
        "accuracy = tf.reduce_mean(tf.cast(correct_prediction,'float'))\n",
        "\n",
        "sess.run(tf.global_variables_initializer())\n",
        "\n",
        "for i in range(20000):\n",
        "  batch = mnist.train.next_batch(50)\n",
        "  if i % 100 == 0:\n",
        "    train_accuracy = accuracy.eval(feed_dict={x:batch[0],y_:batch[1],keep_prob:1.0})\n",
        "    print(\"step %d, training accuracy %g\" %(i, train_accuracy))\n",
        "  train_step.run(feed_dict={x:batch[0],y_:batch[1],keep_prob:0.5})\n",
        "\n",
        "print(\"test accuracy %g\" %accuracy.eval(feed_dict={x:mnist.test.images, y_:mnist.test.labels, keep_prob   :1.0}))"
      ],
      "execution_count": 22,
      "outputs": [
        {
          "output_type": "stream",
          "text": [
            "step 0, training accuracy 0.08\n",
            "step 100, training accuracy 0.92\n",
            "step 200, training accuracy 0.92\n",
            "step 300, training accuracy 0.88\n",
            "step 400, training accuracy 0.98\n",
            "step 500, training accuracy 0.9\n",
            "step 600, training accuracy 0.94\n",
            "step 700, training accuracy 0.98\n",
            "step 800, training accuracy 0.98\n",
            "step 900, training accuracy 0.92\n",
            "step 1100, training accuracy 0.94\n",
            "step 1200, training accuracy 0.98\n",
            "step 1300, training accuracy 0.96\n",
            "step 1400, training accuracy 1\n",
            "step 1500, training accuracy 0.96\n",
            "step 1600, training accuracy 1\n",
            "step 1700, training accuracy 0.96\n",
            "step 1800, training accuracy 0.98\n",
            "step 1900, training accuracy 1\n",
            "step 2000, training accuracy 0.94\n",
            "step 2100, training accuracy 0.94\n",
            "step 2200, training accuracy 0.96\n",
            "step 2300, training accuracy 0.96\n",
            "step 2400, training accuracy 0.96\n",
            "step 2500, training accuracy 0.96\n",
            "step 2600, training accuracy 1\n",
            "step 2700, training accuracy 1\n",
            "step 2800, training accuracy 1\n",
            "step 2900, training accuracy 1\n",
            "step 3000, training accuracy 1\n",
            "step 3100, training accuracy 0.98\n",
            "step 3200, training accuracy 1\n",
            "step 3300, training accuracy 1\n",
            "step 3400, training accuracy 1\n",
            "step 3500, training accuracy 0.98\n",
            "step 3600, training accuracy 0.98\n",
            "step 3700, training accuracy 0.96\n",
            "step 3800, training accuracy 0.98\n",
            "step 3900, training accuracy 0.94\n",
            "step 4000, training accuracy 1\n",
            "step 4100, training accuracy 0.98\n",
            "step 4200, training accuracy 0.98\n",
            "step 4300, training accuracy 0.96\n",
            "step 4400, training accuracy 0.98\n",
            "step 4500, training accuracy 0.98\n",
            "step 4600, training accuracy 1\n",
            "step 4700, training accuracy 0.98\n",
            "step 4800, training accuracy 1\n",
            "step 4900, training accuracy 0.98\n",
            "step 5000, training accuracy 1\n",
            "step 5100, training accuracy 0.98\n",
            "step 5200, training accuracy 1\n",
            "step 5300, training accuracy 1\n",
            "step 5400, training accuracy 1\n",
            "step 5600, training accuracy 0.98\n",
            "step 5700, training accuracy 0.98\n",
            "step 5800, training accuracy 1\n",
            "step 5900, training accuracy 1\n",
            "step 6000, training accuracy 0.96\n",
            "step 6100, training accuracy 0.98\n",
            "step 6200, training accuracy 0.96\n",
            "step 6300, training accuracy 0.98\n",
            "step 6400, training accuracy 1\n",
            "step 6500, training accuracy 1\n",
            "step 6600, training accuracy 1\n",
            "step 6700, training accuracy 1\n",
            "step 6800, training accuracy 0.98\n",
            "step 6900, training accuracy 0.98\n",
            "step 7000, training accuracy 0.98\n",
            "step 7100, training accuracy 0.98\n",
            "step 7200, training accuracy 1\n",
            "step 7300, training accuracy 0.98\n",
            "step 7400, training accuracy 0.96\n",
            "step 7500, training accuracy 0.98\n",
            "step 7600, training accuracy 0.98\n",
            "step 7700, training accuracy 1\n",
            "step 7800, training accuracy 1\n",
            "step 7900, training accuracy 1\n",
            "step 8000, training accuracy 1\n",
            "step 8100, training accuracy 1\n",
            "step 8200, training accuracy 1\n",
            "step 8300, training accuracy 1\n",
            "step 8400, training accuracy 0.98\n",
            "step 8500, training accuracy 1\n",
            "step 8600, training accuracy 1\n",
            "step 8700, training accuracy 1\n",
            "step 8800, training accuracy 1\n",
            "step 8900, training accuracy 1\n",
            "step 9000, training accuracy 1\n",
            "step 9100, training accuracy 0.98\n",
            "step 9200, training accuracy 1\n",
            "step 9300, training accuracy 1\n",
            "step 9400, training accuracy 1\n",
            "step 9500, training accuracy 1\n",
            "step 9600, training accuracy 1\n",
            "step 9700, training accuracy 0.98\n",
            "step 9800, training accuracy 1\n",
            "step 9900, training accuracy 1\n",
            "step 10000, training accuracy 1\n",
            "step 10100, training accuracy 1\n",
            "step 10200, training accuracy 1\n",
            "step 10300, training accuracy 1\n",
            "step 10400, training accuracy 1\n",
            "step 10500, training accuracy 0.98\n",
            "step 10600, training accuracy 1\n",
            "step 10700, training accuracy 1\n",
            "step 10800, training accuracy 1\n",
            "step 10900, training accuracy 1\n",
            "step 11000, training accuracy 1\n",
            "step 11100, training accuracy 1\n",
            "step 11200, training accuracy 1\n",
            "step 11300, training accuracy 0.98\n",
            "step 11400, training accuracy 1\n",
            "step 11500, training accuracy 1\n",
            "step 11600, training accuracy 1\n",
            "step 11700, training accuracy 1\n",
            "step 11800, training accuracy 1\n",
            "step 11900, training accuracy 1\n",
            "step 12000, training accuracy 1\n",
            "step 12100, training accuracy 1\n",
            "step 12200, training accuracy 1\n",
            "step 12300, training accuracy 0.98\n",
            "step 12400, training accuracy 1\n",
            "step 12500, training accuracy 1\n",
            "step 12600, training accuracy 1\n",
            "step 12700, training accuracy 1\n",
            "step 12800, training accuracy 1\n",
            "step 12900, training accuracy 1\n",
            "step 13000, training accuracy 1\n",
            "step 13100, training accuracy 1\n",
            "step 13200, training accuracy 1\n",
            "step 13300, training accuracy 1\n",
            "step 13400, training accuracy 1\n",
            "step 13500, training accuracy 1\n",
            "step 13600, training accuracy 1\n",
            "step 13700, training accuracy 0.98\n",
            "step 13800, training accuracy 1\n",
            "step 13900, training accuracy 1\n",
            "step 14000, training accuracy 1\n",
            "step 14100, training accuracy 1\n",
            "step 14200, training accuracy 1\n",
            "step 14300, training accuracy 1\n",
            "step 14400, training accuracy 1\n",
            "step 14500, training accuracy 1\n",
            "step 14600, training accuracy 1\n",
            "step 14700, training accuracy 1\n",
            "step 14800, training accuracy 1\n",
            "step 14900, training accuracy 1\n",
            "step 15000, training accuracy 1\n",
            "step 15100, training accuracy 1\n",
            "step 15200, training accuracy 1\n",
            "step 15300, training accuracy 1\n",
            "step 15400, training accuracy 1\n",
            "step 15500, training accuracy 1\n",
            "step 15600, training accuracy 1\n",
            "step 15700, training accuracy 1\n",
            "step 15800, training accuracy 1\n",
            "step 15900, training accuracy 0.98\n",
            "step 16000, training accuracy 1\n",
            "step 16100, training accuracy 1\n",
            "step 16200, training accuracy 1\n",
            "step 16300, training accuracy 1\n",
            "step 16400, training accuracy 0.98\n",
            "step 16500, training accuracy 1\n",
            "step 16600, training accuracy 1\n",
            "step 16700, training accuracy 1\n",
            "step 16800, training accuracy 1\n",
            "step 16900, training accuracy 1\n",
            "step 17000, training accuracy 1\n",
            "step 17100, training accuracy 1\n",
            "step 17200, training accuracy 1\n",
            "step 17300, training accuracy 1\n",
            "step 17400, training accuracy 1\n",
            "step 17500, training accuracy 1\n",
            "step 17600, training accuracy 1\n",
            "step 17700, training accuracy 1\n",
            "step 17800, training accuracy 1\n",
            "step 17900, training accuracy 1\n",
            "step 18000, training accuracy 1\n",
            "step 18100, training accuracy 1\n",
            "step 18200, training accuracy 1\n",
            "step 18300, training accuracy 1\n",
            "step 18400, training accuracy 1\n",
            "step 18500, training accuracy 1\n",
            "step 18600, training accuracy 1\n",
            "step 18700, training accuracy 1\n",
            "step 18800, training accuracy 1\n",
            "step 18900, training accuracy 1\n",
            "step 19000, training accuracy 1\n",
            "step 19100, training accuracy 1\n",
            "step 19200, training accuracy 1\n",
            "step 19300, training accuracy 1\n",
            "step 19400, training accuracy 1\n",
            "step 19500, training accuracy 1\n",
            "step 19600, training accuracy 1\n",
            "step 19700, training accuracy 1\n",
            "step 19800, training accuracy 1\n",
            "step 19900, training accuracy 1\n",
            "test accuracy 0.9924\n"
          ],
          "name": "stdout"
        }
      ]
    }
  ]
}